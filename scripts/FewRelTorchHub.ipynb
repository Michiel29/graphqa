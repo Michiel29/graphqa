{
 "cells": [
  {
   "cell_type": "code",
   "execution_count": null,
   "metadata": {},
   "outputs": [],
   "source": [
    "import torch\n",
    "import tqdm\n",
    "import json\n",
    "import spacy\n",
    "import numpy as np\n",
    "from fairseq.models.roberta import alignment_utils"
   ]
  },
  {
   "cell_type": "code",
   "execution_count": null,
   "metadata": {},
   "outputs": [],
   "source": [
    "FEWREL_SIZE = 5000\n",
    "NUM_WAY = 5"
   ]
  },
  {
   "cell_type": "code",
   "execution_count": null,
   "metadata": {},
   "outputs": [],
   "source": [
    "roberta = torch.hub.load('pytorch/fairseq', 'roberta.base')\n",
    "roberta.eval() "
   ]
  },
  {
   "cell_type": "code",
   "execution_count": null,
   "metadata": {},
   "outputs": [],
   "source": [
    "tokens = roberta.encode('Hello world!')\n",
    "assert tokens.tolist() == [0, 31414, 232, 328, 2]\n",
    "assert roberta.decode(tokens) == 'Hello world!'"
   ]
  },
  {
   "cell_type": "code",
   "execution_count": null,
   "metadata": {},
   "outputs": [],
   "source": [
    "def encode(example, return_enitity_embeddings, bag_of_tokens):    \n",
    "    sentence = ' '.join(example['tokens'])\n",
    "    if bag_of_tokens:\n",
    "        assert not return_enitity_embeddings\n",
    "        return roberta.extract_features(roberta.encode(sentence)).mean(1)\n",
    "    doc = roberta.extract_features_aligned_to_words(sentence)\n",
    "    if not return_enitity_embeddings:\n",
    "        return torch.stack([doc[x].vector for x in range(len(doc))]).mean(0, keepdims=True)\n",
    "    head_tokens = [y for x in example['h'][2] for y in x]\n",
    "    tail_tokens = [y for x in example['t'][2] for y in x]    \n",
    "    \n",
    "    head_encoded = torch.stack([doc[x + 1].vector for x in head_tokens]).mean(0, keepdims=True)\n",
    "    tail_encoded = torch.stack([doc[x + 1].vector for x in tail_tokens]).mean(0, keepdims=True)\n",
    "\n",
    "    return torch.cat([head_encoded, tail_encoded], axis=1)"
   ]
  },
  {
   "cell_type": "code",
   "execution_count": null,
   "metadata": {},
   "outputs": [],
   "source": [
    "with open('/data2/urikz/fewrel/val_wiki.json') as f:\n",
    "    data = json.load(f)\n",
    "\n",
    "FEWREL_RELATIONS = list(data.keys())\n",
    "print(len(data))\n",
    "print(FEWREL_RELATIONS)"
   ]
  },
  {
   "cell_type": "code",
   "execution_count": null,
   "metadata": {},
   "outputs": [],
   "source": [
    "def sample_sentences(relation_idx, size=1):\n",
    "    return [x for x in np.random.choice(data[relation_idx], size=2, replace=False)]"
   ]
  },
  {
   "cell_type": "code",
   "execution_count": null,
   "metadata": {},
   "outputs": [],
   "source": [
    "def encode_fn(example):\n",
    "    return encode(\n",
    "        example,\n",
    "        return_enitity_embeddings=False,\n",
    "        bag_of_tokens=True,\n",
    "    )\n",
    "\n",
    "num_correct, num_total, num_failed = 0, 0, 0\n",
    "for i in range(FEWREL_SIZE):\n",
    "    try:\n",
    "        relations = np.random.choice(FEWREL_RELATIONS, NUM_WAY, replace=False)\n",
    "        sentences_for_the_target_relation = sample_sentences(relations[0], 2)\n",
    "        target_encoded = encode_fn(sentences_for_the_target_relation[0]).squeeze(0).unsqueeze(1)\n",
    "        examplars = [sentences_for_the_target_relation[1]] + [sample_sentences(x, 1)[0] for x in relations[1:]]\n",
    "        examplars_encoded = torch.stack([encode_fn(x) for x in examplars], axis=1).squeeze(0)\n",
    "        num_correct += (torch.mm(examplars_encoded, target_encoded).argmax().item() == 0)\n",
    "        num_total += 1\n",
    "    except:\n",
    "        num_failed += 1\n",
    "\n",
    "    if i % 100 == 0 and num_total > 0:\n",
    "        print('-- Iteration #%d: accuract %.2f%% (total %d, failed %d)' % (i + 1, 100.0 * num_correct / num_total, num_total, num_failed))\n",
    "\n",
    "print('FINISHED: accuracy %.2f%% (for %d)' % (100.0 * num_correct / num_total, num_total))"
   ]
  },
  {
   "cell_type": "code",
   "execution_count": null,
   "metadata": {},
   "outputs": [],
   "source": []
  },
  {
   "cell_type": "code",
   "execution_count": null,
   "metadata": {},
   "outputs": [],
   "source": []
  }
 ],
 "metadata": {
  "kernelspec": {
   "display_name": "Python 3",
   "language": "python",
   "name": "python3"
  },
  "language_info": {
   "codemirror_mode": {
    "name": "ipython",
    "version": 3
   },
   "file_extension": ".py",
   "mimetype": "text/x-python",
   "name": "python",
   "nbconvert_exporter": "python",
   "pygments_lexer": "ipython3",
   "version": "3.7.3"
  }
 },
 "nbformat": 4,
 "nbformat_minor": 4
}
